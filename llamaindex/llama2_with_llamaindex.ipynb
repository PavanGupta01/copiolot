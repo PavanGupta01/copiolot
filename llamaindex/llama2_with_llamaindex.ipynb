{
 "cells": [
  {
   "cell_type": "code",
   "execution_count": 37,
   "metadata": {},
   "outputs": [],
   "source": [
    "from llama_index.core import VectorStoreIndex, SimpleDirectoryReader, ServiceContext\n",
    "# from llama_index.llms.huggingface import HuggingFaceLLM\n",
    "from llama_index.core.prompts.prompts import SimpleInputPrompt"
   ]
  },
  {
   "cell_type": "code",
   "execution_count": 38,
   "metadata": {},
   "outputs": [
    {
     "data": {
      "text/plain": [
       "[Document(id_='079b51b0-5411-426b-ab9a-ce2a7a864ce2', embedding=None, metadata={'page_label': '1', 'file_name': 'CV-Pavan-13yrs-Python-AI.pdf', 'file_path': '/Users/pavangupta/Documents/projects/copiolot/llamaindex/data/CV-Pavan-13yrs-Python-AI.pdf', 'file_type': 'application/pdf', 'file_size': 119421, 'creation_date': '2024-08-17', 'last_modified_date': '2024-08-14'}, excluded_embed_metadata_keys=['file_name', 'file_type', 'file_size', 'creation_date', 'last_modified_date', 'last_accessed_date'], excluded_llm_metadata_keys=['file_name', 'file_type', 'file_size', 'creation_date', 'last_modified_date', 'last_accessed_date'], relationships={}, text='Pavan\\nGupta\\nSolutions\\nArchitect\\nAI\\nAddress\\n:\\nPune,\\nMaharashtra,\\n411045\\nEmail\\n:\\npvn.gupta.2009@gmail.com\\nPhone\\n:\\n+91\\n9730021660\\nLinkedIn\\n:\\npavan-gupta-3a051b30\\nGithub\\nPavanGupta01\\nStake\\nOverflow\\npavan-gupta\\nFull-stack\\nLead\\nAI\\nDeveloper/Architect\\nwith\\n13+\\nyears\\nof\\nexperience\\nspecializing\\nin\\nconverting\\nideas\\ninto\\nproducts \\nand\\nbuilding\\nsolutions\\nfrom\\nthe\\nground\\nup\\nfor\\nUS-based\\nstartups.\\nExpertise\\nincludes\\nData\\nScience,\\nApplication \\nDevelopment,\\nAI/ML\\nOps\\nand\\nProject\\nManagement.\\nProven\\ntrack\\nrecord\\nover\\nthe\\nlast\\n7+\\nyears\\nin\\nleading\\ndesign\\nand\\ndevelopment\\nof\\nMVPs\\nand\\nproduction-ready \\nsystems,\\ndelivering\\nAI-enabled,\\ndata-driven\\nproducts\\nin\\nfast-paced\\nenvironments.\\nLeading\\nthe\\ndevelopment\\nof\\nan\\nEnterprise-RAG\\nplatform\\nutilizing\\nllamaindex,\\nInformation-Retrieval\\nworkflow\\nwhich \\nleverages\\nOpenAI-ChatGPt\\n&\\nLangchain\\non\\nAWS\\ncloud\\nfor\\nmarket\\nresearch\\nproduct.\\nKey\\nSkills\\nCore\\nSkills:\\nPython,\\nAI,\\nAWS,\\nArchitecture,\\nWeb\\nDevelopment,\\nAgile.\\nDomains:\\nFinancial\\nSystems\\n-\\nBFSI,\\nEd\\ntech,\\nTelecom\\nGenerative\\nAI:\\nRAG,\\nLLM,\\nChatGPT,\\nLangchain,\\nLlamaindex,\\nOllama,\\nPrompt\\nEngineering,\\nConversational\\nAI\\nusing \\nChatbot.\\nNew\\nSkills:\\nAI\\nAgents\\n(Agentic\\nRAG),\\nLanggraph,\\nResponsible\\nAI.\\nTools\\n/\\nFrameworks:\\nNatural\\nlanguage\\nprocessing\\n–\\nNLP,\\nscikit-learn\\n(sklearn),\\nGensim,\\nPandas,\\nFastAPI,\\nDjango, \\nFlask,\\nPostgres,\\nElastic\\nSearch,\\nSQLAlchemy,\\nJenkins,\\nDocker,\\nAnsible.\\nConcepts:\\nLLM,\\nInformation\\nretrieval,\\nML\\nOps,\\nAI\\nOps,\\nAgile,\\nServerless,\\nMicroservices,\\nRestAPIs,\\nSystem\\nDesign, \\nAPI\\nDesign,\\nAsync\\nProcessing,\\nEvent\\nDriven\\nDesign,\\nDatabase\\nDesign,\\nETL,\\nData\\nMigration,\\nData\\nPipeline.\\nAWS\\nCloud\\nServices:\\nSagemaker,\\nBedrock,\\nLambda,\\nAPI\\nGateway,\\nDynamoDB\\n(NoSQL\\nDB),\\nQuickSight\\n(BI\\ntool), \\nS3\\n(Datalake),\\nRedshift,\\nSNS,\\nSQS\\n(queue),\\nCloud\\nWatch\\n(Logging\\nand\\nmonitoring),\\nECS,\\nEKS\\n(Kubernetes), \\nCognito,\\nAuroraDB\\nRDS.\\nManagement:\\nArchitecture,\\nTeam\\nLeader,\\nSprint\\nPlanning,\\nProduct\\nManagement,\\nDelivery\\nManagement,\\nProject \\nManagement.\\nProfessional\\nExperience\\nCompany\\n:\\nGSLab,\\nPune \\nDuration\\n:\\nJuly-2015\\nto\\nPresent\\n(9\\nyears)\\nRole\\n:\\nSolutions\\nArchitect\\nAI \\nProduct-1:\\nOpportunities \\nSkills:\\nInformation\\nRetrieval,\\nRAG,\\nLangchain,\\nChat\\nGPT\\n(LLM),\\nFastAPI. \\nAWS\\nServices\\n:\\nSagemaker,\\nS3,\\nSQS,\\nSNS,\\nECS,\\nLambda,\\nDynamo-Db,\\nOpensearch,\\nQuicksight.\\nApplication\\nfor\\nﬁnding\\nbusiness\\nleads\\n(needle\\nin\\nhaystack)\\nfrom\\ncompany\\nﬁlings,\\nreports,\\nannouncements, \\nnews\\nfeeds\\nand\\nuser\\nuploaded\\npdf\\nﬁles\\n', mimetype='text/plain', start_char_idx=None, end_char_idx=None, text_template='{metadata_str}\\n\\n{content}', metadata_template='{key}: {value}', metadata_seperator='\\n'),\n",
       " Document(id_='32493341-a173-4ee0-8cca-b6c824e76962', embedding=None, metadata={'page_label': '2', 'file_name': 'CV-Pavan-13yrs-Python-AI.pdf', 'file_path': '/Users/pavangupta/Documents/projects/copiolot/llamaindex/data/CV-Pavan-13yrs-Python-AI.pdf', 'file_type': 'application/pdf', 'file_size': 119421, 'creation_date': '2024-08-17', 'last_modified_date': '2024-08-14'}, excluded_embed_metadata_keys=['file_name', 'file_type', 'file_size', 'creation_date', 'last_modified_date', 'last_accessed_date'], excluded_llm_metadata_keys=['file_name', 'file_type', 'file_size', 'creation_date', 'last_modified_date', 'last_accessed_date'], relationships={}, text='●\\nData\\nLoad\\nPipeline\\n:\\nDesigned\\nand\\ndeveloped\\npipeline\\nto\\nprocess\\nunstructured\\ndata\\nfrom\\nmultiple \\nsources\\nin\\nreal\\ntime\\nwith\\nguaranteed\\nprocessing\\nusing\\nqueue\\nservice.\\nImplemented\\nEnd\\nto\\nend \\nmonitoring\\nof\\nfiles\\nand\\ndocuments\\nvia\\nlive\\ndashboard.\\n●\\nData\\nPreprocessing\\nPipeline\\n:\\nProductionizing\\nthe\\nData\\nScience\\ningestion\\ncode\\nfrom\\nmulti\\nstep\\nNLP \\npipeline\\nto\\nextract,\\nclean,\\npreprocess,\\nvectorization\\n(embeddings)\\nthe\\ntext\\ndata\\nfrom\\npdf\\nfiles.\\n●\\nRetrieval\\nPipeline\\n:\\nHigh-performance\\nretrieval\\nservice\\nto\\nrun\\nreal-time\\nand\\nscheduled\\nsearches. \\nVolume:\\n10,000\\nsearches\\non\\nup\\nto\\n1000\\ndocuments\\nper\\ncompany\\nfor\\nFortune-500\\ncompanies\\non\\na \\ndaily\\nbasis\\nto\\ncapture\\nbusiness\\nenablement\\nopportunities\\nfrom\\ndaily\\nnews\\nfeeds.\\n●\\nProductionize\\nlogic\\nof\\nhybrid\\nsearch\\n(Semantic\\n+\\nKeywords)\\nfor\\nbetter\\nprecision.\\n●\\nSuccessful\\nimplementation\\nof\\nproduct\\nresulted\\nin\\nconverting\\nMVP\\ninto\\nan\\nenterprise\\nproduct\\nwith \\nonboarding\\nof\\n7\\nFortune-1000\\ncompanies\\nas\\nlicensed\\ncustomers\\nof\\nthis\\nplatform.\\nRole\\n:\\nLead\\nData\\nScientist \\nProduct-2\\n:\\nIlluminate \\nSkills\\n:\\nPython,\\nscikit-learn,\\nData\\nMining,\\nData\\nPreprocessing,\\nETL,\\nData\\nLake,\\nData\\nPipeline,\\nDashboard \\nEmbedding,\\nData\\nwarehousing. \\nAWS\\nServices\\n:\\nLambda,\\nDynamo-Db,\\nS3,\\nAurora-Db,\\nSQS,\\nRedshift,\\nQuickSight.\\nIlluminate\\nprovides\\na\\nsingle\\naccount\\nfinancial\\nview\\nto\\nhighlight\\nactual\\nto\\nplan\\nperformance\\nbased\\non\\nestimated \\naccount\\nspend\\nwith\\nfive\\nyear\\nforward\\nand\\nbackward\\nviews.\\n●\\nAnalyzed\\nbusiness\\nrequirement\\nrelated\\nto\\ncompany’s\\nﬁnancial\\ndata,\\nidentify\\nsuitable\\nAPIs\\non \\nThomson-\\nReuters,\\nprocess,\\nsave\\nand\\npublish\\ndata\\non\\nweb\\napplication.\\n●\\nLEI\\nIntegration\\nfor\\ncompany\\ninformation\\nand\\nownership\\nhierarchy.\\n●\\nProductionized\\nweb-embeddable\\ndashboards\\nusing\\nAWS\\nQuickSight\\nand\\nRedshift\\nto\\ndisplay\\naccount \\ninsights.\\nRole\\n:\\nManager\\nEngineering \\nProduct-3\\n:\\nEnterprise\\nB2B\\nSaaS\\nPlatform \\nSkills\\n:\\nPython,\\nFastAPI,\\nAWS,\\nAgile,\\nServerless,\\nDelivery\\nManagement,\\nProject\\nManagement,\\nElastic\\nSearch, \\nPostgres. \\nAWS\\nServices\\n:\\nCognito,\\nLambda,\\nAPI\\nGateway,\\nDynamoDB,\\nEKS,\\nS3,\\nEC-2,\\nSQS,\\nSNS,\\nQuicksight.\\nGo\\nt o\\ncust omer\\nB2B\\nEnterprise\\nSaaS\\nplatform.\\nUtilizing\\nA WS\\nSer v erless\\nand\\nP ython,\\nReact\\nstack.\\nAccount360\\n:\\nGo\\nto\\ncustomer\\nplatform\\nfor\\nB2B\\norganizations\\nto\\nprotect,\\nretain,\\nand\\ngrow\\nlarge\\naccounts.\\n●\\nProject\\nManagement:\\nLed\\ndesign\\nand\\nimplementation\\nof\\nEnterprise\\nB2B\\nSaaS\\nplatform\\nfrom\\nscratch,\\nleveraging\\nAWS\\n-\\nServerless\\narchitecture\\nand\\nEKS\\nfor\\nscalability.\\n●\\nStrategy\\nand\\nDecision\\nMaking:\\nDrove\\nstrategic\\nand\\ntactical\\ndecision-making\\nin\\ntechnology, \\nprocesses,\\nand\\nteam\\nmanagement,\\nfor\\nimproving\\nefficiency\\nand\\noutput.\\n●\\nArchitecture\\nand\\nDesign:\\nDefined\\nscalable\\narchitecture,\\nAPI\\nspecs,\\ndatabase\\ndesign,\\nstandard \\nguidelines,\\nand\\ntracked\\ndeliverable\\nprogress.\\n●\\nProcess\\nOptimization:\\nIdentified\\nand\\naddressed\\nknowledge,\\ntool,\\nand\\nprocess\\ngaps\\nto\\nensure \\nhighest\\nquality\\nand\\non-time\\ndelivery.\\n●\\nTeam\\nBuilding:\\nBuilt\\nhigh-performing\\nteams\\nand\\ncontributed\\nto\\ncore\\nbackend\\ncomponents,\\nresulting \\nin\\nproject\\nsuccess.\\n●\\nSuccessful\\nproduct\\nimplementation\\nresulted\\nin\\nconverting\\nMVP\\ninto\\nan\\nenterprise\\nproduct, \\nonboarding\\n7\\nFortune\\ncompanies\\nas\\nlicensed\\ncustomers.\\n●\\nGrown\\nclient\\naccount\\nsize\\nto\\n4X\\nin\\n3\\nyears,\\ngenerating\\nan\\nadditional\\n$1\\nmillion\\nin\\nannual\\nrevenue.\\nRole\\n:\\nLead\\nEngineer\\n-\\nAI\\nProduct\\n:\\nProduct\\nRecommendation\\nengine\\nfor\\ndigital\\ncontent\\nplatform.\\nSkills\\n:\\nMLE,\\nNLP,\\nPandas,\\nScikit-learn,\\nGensim,\\nPython,\\nDjango,\\nElastic\\nSearch.\\n', mimetype='text/plain', start_char_idx=None, end_char_idx=None, text_template='{metadata_str}\\n\\n{content}', metadata_template='{key}: {value}', metadata_seperator='\\n'),\n",
       " Document(id_='5b776911-9596-4975-8586-90d6650ecbd9', embedding=None, metadata={'page_label': '3', 'file_name': 'CV-Pavan-13yrs-Python-AI.pdf', 'file_path': '/Users/pavangupta/Documents/projects/copiolot/llamaindex/data/CV-Pavan-13yrs-Python-AI.pdf', 'file_type': 'application/pdf', 'file_size': 119421, 'creation_date': '2024-08-17', 'last_modified_date': '2024-08-14'}, excluded_embed_metadata_keys=['file_name', 'file_type', 'file_size', 'creation_date', 'last_modified_date', 'last_accessed_date'], excluded_llm_metadata_keys=['file_name', 'file_type', 'file_size', 'creation_date', 'last_modified_date', 'last_accessed_date'], relationships={}, text='●\\nSummary\\nGeneration:\\nDeveloped\\na\\nmulti-step\\nNLP\\npipeline\\nto\\nextract,\\nclean,\\npreprocess,\\nand\\ngenerate \\ncontent\\nsummaries,\\nincreasing\\nproduct\\nvisibility\\nin\\nuser\\nsearches\\nby\\n70%.\\n●\\nDocument\\nTagging:\\nCreated\\nan\\nNLP-based\\ntags\\ndetection\\nalgorithm,\\nsignificantly\\nboosting\\ndocument \\nvisibility.\\n●\\nProduct\\nRecommendation:\\nImplemented\\na\\nrecommendation\\nengine\\nusing\\nuser\\nand\\nproduct\\ndata\\nmatching\\nRole\\n:\\nLead\\nBackend\\nEngineer\\n-\\nPython\\nProduct\\n:\\nDigital\\nContent\\ne-commerce\\nplatform\\nSkills\\n:\\nPython,\\nDjango,\\nDRF,\\nElastic\\nSearch,\\nRedis,\\nCelery,\\nRabbitMQ,\\nMySQL,\\nREST-API,\\nPytest,\\nA/B\\nTesting, \\nPayment\\nGateway\\nIntegration,\\nRedshift.\\nDeveloped\\na\\ndigital\\ncontent\\nplatform,\\nand\\nintegrated\\nPayment\\ngateways\\nfor\\na\\nUS\\nbased\\nEdtech\\nstartup.\\nused \\nby\\n~90\\nmillion\\nusers\\nand\\n~\\n1\\nmillion\\nweekly\\nactive\\nusers.\\n●\\nProduct\\nLifecycle\\n:\\nImplemented\\nREST\\nAPIs\\nfor\\nproduct\\nlifecycle\\nincluding\\nmedia\\ncontent\\nupload.\\n●\\nModeration\\nworkflow\\n:\\nDesigned\\nand\\nimplemented\\ncontent\\nmoderation\\nflow\\nfor\\nproduct\\nreview\\nbefore \\npublishing.\\n●\\nPayment\\nGateway\\nIntegration:\\nIntegrated\\nPayPal\\nand\\nStripe\\npayment\\ngateways.\\n●\\nLogging\\nand\\nMonitoring:\\nImplemented\\nlogging\\nand\\nmonitoring\\nframework\\nfor\\nend-to-end\\nproduct\\nlife\\ncycle, \\nmoderation,\\nand\\npayments.\\n●\\nReporting:\\nDeveloped\\nuser\\nactivity\\ntracking\\nframework\\nand\\nproduct\\nconsumption\\nreports\\nfor\\nstakeholders.\\n●\\nDatabase\\nDesign:\\n●\\nA/B\\nTests:\\nCollaborated\\nwith\\nProduct\\nManagement\\nto\\nimplement\\ndata-driven\\nfeature\\nstrategy\\nusing\\nA/B\\ntests.\\nRole\\n:\\nSenior\\nSoftware\\nEngineer\\nProduct\\n:\\nAerospike\\n(NoSQL\\nDatabase).\\nSkills\\n:\\nPython,\\nAerospike,\\nPytest,\\nDocker,\\nJenkins,\\nAnsible.\\n●\\nImplemented\\nJenkins\\nbased\\nCI/CD\\npipeline\\nfor\\nNoSQL\\ndatabase\\nconnectors\\nbuilds. \\n●\\nEngineered\\ndockerfiles\\nto\\ntest\\nNoSQL\\nDB\\nconnector\\nlibraries\\nagainst\\nvarious\\nOS\\nand\\nprogramming\\nlanguage\\nversions\\ne.g.\\nhttps://github.com/PavanGupta01/devops/blob/master/docker/aerospike/c16_py_core\\n●\\nContributed\\nto\\nthe\\nbackend\\nfor\\na\\nweb-based\\ncluster\\nmonitoring\\nsystem\\nfor\\nNoSQL\\nDB.\\nCompany\\n:\\nSynerzip\\n(now\\nExcellarate),\\nPune\\nRole\\n:\\nSenior\\nSoftware\\nengineer \\nDuration\\n:\\nJuly-2013\\nto\\nJune-2015\\n(2\\nYears)\\nRole\\n:\\nSenior\\nSoftware\\nEngineer\\n(2\\nYears) \\nProduct-1:\\nQuickOffice\\n(Google\\nproduct) \\nSkills:\\nDjango,\\nPython,\\nDevOps,\\nJenkins,\\nCI/CD,\\nDocker,\\nAnsible.\\nQuickOffice\\nis\\nGoogle’s\\nproduct\\nthat\\nallows\\nusers\\nto\\nedit\\nWord,\\nExcel,\\nand\\npresentation\\nfiles\\noffline\\nin \\nChrome.\\n●\\nSet\\nup\\nCI\\npipeline\\nwith\\nBamboo,\\nJenkins,\\nAnsible,\\nand\\nDocker,\\nreducing\\nbuild\\nshipping\\ntime \\nby\\n40%.\\n●\\nDeveloped\\nand\\nmaintained\\ntest\\nautomation\\nframeworks.\\n●\\nEngineered\\na\\nweb-based\\ntool\\nto\\nautomate\\nbuild\\ntesting.\\nCompany\\n:\\nAmdocs,\\nPune\\n', mimetype='text/plain', start_char_idx=None, end_char_idx=None, text_template='{metadata_str}\\n\\n{content}', metadata_template='{key}: {value}', metadata_seperator='\\n'),\n",
       " Document(id_='51a04c23-0e54-47ff-8ed5-89463f695802', embedding=None, metadata={'page_label': '4', 'file_name': 'CV-Pavan-13yrs-Python-AI.pdf', 'file_path': '/Users/pavangupta/Documents/projects/copiolot/llamaindex/data/CV-Pavan-13yrs-Python-AI.pdf', 'file_type': 'application/pdf', 'file_size': 119421, 'creation_date': '2024-08-17', 'last_modified_date': '2024-08-14'}, excluded_embed_metadata_keys=['file_name', 'file_type', 'file_size', 'creation_date', 'last_modified_date', 'last_accessed_date'], excluded_llm_metadata_keys=['file_name', 'file_type', 'file_size', 'creation_date', 'last_modified_date', 'last_accessed_date'], relationships={}, text='Role\\n:\\nSubject\\nMatter\\nExpert\\n(SME) \\nDuration\\n:\\nJuly-2011\\nto\\nJune-2013\\n(2\\nyears)\\nProduct:\\nE-Commerce\\nPlatform\\n(used\\nby\\n~50\\nmn\\nusers) \\nSkills\\n:\\nPython,\\nSelenium,\\nTest\\nautomation,\\nTest\\nexecution,\\nManual\\ntesting.\\n●\\nDesigned\\ntest\\nautomation\\nframework\\nand\\nend-to-end\\nscenarios,\\nreducing\\nmanual\\ntesting\\nefforts\\nby\\n70%. \\n●\\nDeveloped\\nQC\\nand\\nJIRA\\nsynchronization\\ntools,\\nsaving\\n~30\\nhours\\nof\\nmonthly\\nmanpower. \\n●\\nClustered\\nand\\nidentified\\nrequirements\\nfrom\\nSRS\\ndocuments. \\n●\\nPrepared\\nand\\nexecuted\\ntest\\nplans\\nbased\\non\\nsoftware\\nrequirements.\\nEducation\\nRIT\\n/\\nMasters\\nin\\nComputer\\nApplications\\n(\\nMCA\\n)\\nJul\\n2008\\n-\\nJun\\n2011,\\nIndore\\nMCRPV\\n/\\nBachelors\\nof\\nComputer\\nApplications\\n(\\nBCA\\n)\\nJul\\n2005\\n-\\nJun\\n2008,\\nRajgarh\\nCertiﬁcations\\nand\\nAward\\n●\\nGitHub\\nCopilot:\\nThe\\nAI\\nPair\\nProgrammer\\nfor\\nCoding\\n-\\nCoursera\\nSpecialization\\nDelve\\ndeeply\\ninto\\nthe\\nartificial\\nintelligence\\ntechnologies\\nthat\\ndrive\\nGitHub\\nCopilot.\\n●\\nGenerative\\nAI\\nfor\\nEveryone\\n-\\nCoursera\\nSpecialization\\nAI\\nFundamentals\\nand\\nApplications\\nin\\nDaily\\nLife\\n●\\nAchiever\\nof\\nthe\\nYear\\n(2020\\n-\\n21)\\n-\\nGSLab\\nPrestigious\\nyearly\\naward\\nfor\\nvalues\\nand\\nexcellence\\nin\\nterms\\nof\\nachieving\\nclient\\nappreciation,\\ntechnical \\ncontribution,\\nand\\nbuilding\\nan\\nethical\\nculture\\nat\\nwork.\\n●\\nAerospike\\nDeveloper\\nAnd\\nAdministration\\n-\\nAerospikeDB\\nOpen-Source\\nContribution\\nProduct:\\nAerospike-Admin\\n(Distributed\\nNoSQL\\nDB) \\n●\\nhttps://github.com/aerospike/aerospike-admin/commits?author=PavanGupta01 \\n●\\nhttps://github.com/aerospike/aerospike-admin/pull/25/files\\nAerospike\\nAdmin\\nprovides\\nan\\ninterface\\nfor\\nAerospike\\nusers\\nto\\nview\\nthe\\nstat\\nof\\ntheir\\nAerospike\\nCluster\\nby\\nfetching \\ninformation\\nfrom\\na\\nrunning\\ncluster.\\nInterests \\nBadminton,\\nPersonal\\nfinance.\\n', mimetype='text/plain', start_char_idx=None, end_char_idx=None, text_template='{metadata_str}\\n\\n{content}', metadata_template='{key}: {value}', metadata_seperator='\\n')]"
      ]
     },
     "execution_count": 38,
     "metadata": {},
     "output_type": "execute_result"
    }
   ],
   "source": [
    "documents = SimpleDirectoryReader(\"data\").load_data()\n",
    "documents"
   ]
  },
  {
   "cell_type": "code",
   "execution_count": 39,
   "metadata": {},
   "outputs": [],
   "source": [
    "\n",
    "\n",
    "system_prompt=\"\"\"\n",
    "You are a Q&A assistant. Your goal is to answer questions as\n",
    "accurately as possible based on the instructions and context provided.\n",
    "\"\"\"\n",
    "## Default format supportable by LLama2\n",
    "query_wrapper_prompt=SimpleInputPrompt(\"<|USER|>{query_str}<|ASSISTANT|>\")"
   ]
  },
  {
   "cell_type": "code",
   "execution_count": 40,
   "metadata": {},
   "outputs": [
    {
     "name": "stderr",
     "output_type": "stream",
     "text": [
      "/var/folders/_d/xy8dqzhs6zb64t6q7qxbhgwr0000gr/T/ipykernel_6183/2869376433.py:7: DeprecationWarning: Call to deprecated class method from_defaults. (ServiceContext is deprecated, please use `llama_index.settings.Settings` instead.) -- Deprecated since version 0.10.0.\n",
      "  service_context=ServiceContext.from_defaults(\n"
     ]
    },
    {
     "ename": "ImportError",
     "evalue": "`llama-index-llms-langchain` package not found, please run `pip install llama-index-llms-langchain`",
     "output_type": "error",
     "traceback": [
      "\u001b[0;31m---------------------------------------------------------------------------\u001b[0m",
      "\u001b[0;31mModuleNotFoundError\u001b[0m                       Traceback (most recent call last)",
      "File \u001b[0;32m~/Documents/projects/copiolot/venv/lib/python3.11/site-packages/llama_index/core/llms/utils.py:90\u001b[0m, in \u001b[0;36mresolve_llm\u001b[0;34m(llm, callback_manager)\u001b[0m\n\u001b[1;32m     89\u001b[0m \u001b[38;5;28;01mtry\u001b[39;00m:\n\u001b[0;32m---> 90\u001b[0m     \u001b[38;5;28;01mfrom\u001b[39;00m \u001b[38;5;21;01mllama_index\u001b[39;00m\u001b[38;5;21;01m.\u001b[39;00m\u001b[38;5;21;01mllms\u001b[39;00m\u001b[38;5;21;01m.\u001b[39;00m\u001b[38;5;21;01mlangchain\u001b[39;00m \u001b[38;5;28;01mimport\u001b[39;00m LangChainLLM  \u001b[38;5;66;03m# pants: no-infer-dep\u001b[39;00m\n\u001b[1;32m     92\u001b[0m     llm \u001b[38;5;241m=\u001b[39m LangChainLLM(llm\u001b[38;5;241m=\u001b[39mllm)\n",
      "\u001b[0;31mModuleNotFoundError\u001b[0m: No module named 'llama_index.llms.langchain'",
      "\nDuring handling of the above exception, another exception occurred:\n",
      "\u001b[0;31mImportError\u001b[0m                               Traceback (most recent call last)",
      "Cell \u001b[0;32mIn[40], line 7\u001b[0m\n\u001b[1;32m      2\u001b[0m llm \u001b[38;5;241m=\u001b[39m Ollama(model\u001b[38;5;241m=\u001b[39m\u001b[38;5;124m\"\u001b[39m\u001b[38;5;124mllama3\u001b[39m\u001b[38;5;124m\"\u001b[39m)\n\u001b[1;32m      4\u001b[0m \u001b[38;5;28;01mfrom\u001b[39;00m \u001b[38;5;21;01mlangchain_community\u001b[39;00m\u001b[38;5;21;01m.\u001b[39;00m\u001b[38;5;21;01membeddings\u001b[39;00m \u001b[38;5;28;01mimport\u001b[39;00m OllamaEmbeddings\n\u001b[0;32m----> 7\u001b[0m service_context\u001b[38;5;241m=\u001b[39m\u001b[43mServiceContext\u001b[49m\u001b[38;5;241;43m.\u001b[39;49m\u001b[43mfrom_defaults\u001b[49m\u001b[43m(\u001b[49m\n\u001b[1;32m      8\u001b[0m \u001b[43m    \u001b[49m\u001b[43mchunk_size\u001b[49m\u001b[38;5;241;43m=\u001b[39;49m\u001b[38;5;241;43m1024\u001b[39;49m\u001b[43m,\u001b[49m\n\u001b[1;32m      9\u001b[0m \u001b[43m    \u001b[49m\u001b[43mllm\u001b[49m\u001b[38;5;241;43m=\u001b[39;49m\u001b[43mllm\u001b[49m\u001b[43m,\u001b[49m\n\u001b[1;32m     10\u001b[0m \u001b[43m    \u001b[49m\u001b[43membed_model\u001b[49m\u001b[38;5;241;43m=\u001b[39;49m\u001b[43mOllamaEmbeddings\u001b[49m\u001b[43m(\u001b[49m\u001b[43m)\u001b[49m\n\u001b[1;32m     11\u001b[0m \u001b[43m)\u001b[49m\n",
      "File \u001b[0;32m~/Documents/projects/copiolot/venv/lib/python3.11/site-packages/deprecated/classic.py:285\u001b[0m, in \u001b[0;36mdeprecated.<locals>.wrapper_function\u001b[0;34m(wrapped_, instance_, args_, kwargs_)\u001b[0m\n\u001b[1;32m    283\u001b[0m \u001b[38;5;28;01melse\u001b[39;00m:\n\u001b[1;32m    284\u001b[0m     warnings\u001b[38;5;241m.\u001b[39mwarn(msg, category\u001b[38;5;241m=\u001b[39mcategory, stacklevel\u001b[38;5;241m=\u001b[39m_routine_stacklevel)\n\u001b[0;32m--> 285\u001b[0m \u001b[38;5;28;01mreturn\u001b[39;00m \u001b[43mwrapped_\u001b[49m\u001b[43m(\u001b[49m\u001b[38;5;241;43m*\u001b[39;49m\u001b[43margs_\u001b[49m\u001b[43m,\u001b[49m\u001b[43m \u001b[49m\u001b[38;5;241;43m*\u001b[39;49m\u001b[38;5;241;43m*\u001b[39;49m\u001b[43mkwargs_\u001b[49m\u001b[43m)\u001b[49m\n",
      "File \u001b[0;32m~/Documents/projects/copiolot/venv/lib/python3.11/site-packages/llama_index/core/service_context.py:178\u001b[0m, in \u001b[0;36mServiceContext.from_defaults\u001b[0;34m(cls, llm_predictor, llm, prompt_helper, embed_model, node_parser, text_splitter, transformations, llama_logger, callback_manager, system_prompt, query_wrapper_prompt, pydantic_program_mode, chunk_size, chunk_overlap, context_window, num_output, chunk_size_limit)\u001b[0m\n\u001b[1;32m    176\u001b[0m \u001b[38;5;28;01mif\u001b[39;00m llm_predictor \u001b[38;5;129;01mis\u001b[39;00m \u001b[38;5;129;01mnot\u001b[39;00m \u001b[38;5;28;01mNone\u001b[39;00m:\n\u001b[1;32m    177\u001b[0m     \u001b[38;5;28;01mraise\u001b[39;00m \u001b[38;5;167;01mValueError\u001b[39;00m(\u001b[38;5;124m\"\u001b[39m\u001b[38;5;124mCannot specify both llm and llm_predictor\u001b[39m\u001b[38;5;124m\"\u001b[39m)\n\u001b[0;32m--> 178\u001b[0m llm \u001b[38;5;241m=\u001b[39m \u001b[43mresolve_llm\u001b[49m\u001b[43m(\u001b[49m\u001b[43mllm\u001b[49m\u001b[43m)\u001b[49m\n\u001b[1;32m    179\u001b[0m llm\u001b[38;5;241m.\u001b[39msystem_prompt \u001b[38;5;241m=\u001b[39m llm\u001b[38;5;241m.\u001b[39msystem_prompt \u001b[38;5;129;01mor\u001b[39;00m system_prompt\n\u001b[1;32m    180\u001b[0m llm\u001b[38;5;241m.\u001b[39mquery_wrapper_prompt \u001b[38;5;241m=\u001b[39m llm\u001b[38;5;241m.\u001b[39mquery_wrapper_prompt \u001b[38;5;129;01mor\u001b[39;00m query_wrapper_prompt\n",
      "File \u001b[0;32m~/Documents/projects/copiolot/venv/lib/python3.11/site-packages/llama_index/core/llms/utils.py:94\u001b[0m, in \u001b[0;36mresolve_llm\u001b[0;34m(llm, callback_manager)\u001b[0m\n\u001b[1;32m     92\u001b[0m         llm \u001b[38;5;241m=\u001b[39m LangChainLLM(llm\u001b[38;5;241m=\u001b[39mllm)\n\u001b[1;32m     93\u001b[0m     \u001b[38;5;28;01mexcept\u001b[39;00m \u001b[38;5;167;01mImportError\u001b[39;00m:\n\u001b[0;32m---> 94\u001b[0m         \u001b[38;5;28;01mraise\u001b[39;00m \u001b[38;5;167;01mImportError\u001b[39;00m(\n\u001b[1;32m     95\u001b[0m             \u001b[38;5;124m\"\u001b[39m\u001b[38;5;124m`llama-index-llms-langchain` package not found, \u001b[39m\u001b[38;5;124m\"\u001b[39m\n\u001b[1;32m     96\u001b[0m             \u001b[38;5;124m\"\u001b[39m\u001b[38;5;124mplease run `pip install llama-index-llms-langchain`\u001b[39m\u001b[38;5;124m\"\u001b[39m\n\u001b[1;32m     97\u001b[0m         )\n\u001b[1;32m     98\u001b[0m \u001b[38;5;28;01melif\u001b[39;00m llm \u001b[38;5;129;01mis\u001b[39;00m \u001b[38;5;28;01mNone\u001b[39;00m:\n\u001b[1;32m     99\u001b[0m     \u001b[38;5;28mprint\u001b[39m(\u001b[38;5;124m\"\u001b[39m\u001b[38;5;124mLLM is explicitly disabled. Using MockLLM.\u001b[39m\u001b[38;5;124m\"\u001b[39m)\n",
      "\u001b[0;31mImportError\u001b[0m: `llama-index-llms-langchain` package not found, please run `pip install llama-index-llms-langchain`"
     ]
    }
   ],
   "source": [
    "from langchain_community.llms.ollama import Ollama\n",
    "llm = Ollama(model=\"llama3\")\n",
    "\n",
    "from langchain_community.embeddings import OllamaEmbeddings\n",
    "\n",
    "\n",
    "service_context=ServiceContext.from_defaults(\n",
    "    chunk_size=1024,\n",
    "    llm=llm,\n",
    "    embed_model=OllamaEmbeddings()\n",
    ")"
   ]
  },
  {
   "cell_type": "code",
   "execution_count": null,
   "metadata": {},
   "outputs": [
    {
     "name": "stderr",
     "output_type": "stream",
     "text": [
      "/var/folders/_d/xy8dqzhs6zb64t6q7qxbhgwr0000gr/T/ipykernel_6183/3514855917.py:8: DeprecationWarning: Call to deprecated class method from_defaults. (ServiceContext is deprecated, please use `llama_index.settings.Settings` instead.) -- Deprecated since version 0.10.0.\n",
      "  service_context=ServiceContext.from_defaults(\n"
     ]
    },
    {
     "ename": "ImportError",
     "evalue": "`llama-index-llms-langchain` package not found, please run `pip install llama-index-llms-langchain`",
     "output_type": "error",
     "traceback": [
      "\u001b[0;31m---------------------------------------------------------------------------\u001b[0m",
      "\u001b[0;31mModuleNotFoundError\u001b[0m                       Traceback (most recent call last)",
      "File \u001b[0;32m~/Documents/projects/copiolot/venv/lib/python3.11/site-packages/llama_index/core/llms/utils.py:90\u001b[0m, in \u001b[0;36mresolve_llm\u001b[0;34m(llm, callback_manager)\u001b[0m\n\u001b[1;32m     89\u001b[0m \u001b[38;5;28;01mtry\u001b[39;00m:\n\u001b[0;32m---> 90\u001b[0m     \u001b[38;5;28;01mfrom\u001b[39;00m \u001b[38;5;21;01mllama_index\u001b[39;00m\u001b[38;5;21;01m.\u001b[39;00m\u001b[38;5;21;01mllms\u001b[39;00m\u001b[38;5;21;01m.\u001b[39;00m\u001b[38;5;21;01mlangchain\u001b[39;00m \u001b[38;5;28;01mimport\u001b[39;00m LangChainLLM  \u001b[38;5;66;03m# pants: no-infer-dep\u001b[39;00m\n\u001b[1;32m     92\u001b[0m     llm \u001b[38;5;241m=\u001b[39m LangChainLLM(llm\u001b[38;5;241m=\u001b[39mllm)\n",
      "\u001b[0;31mModuleNotFoundError\u001b[0m: No module named 'llama_index.llms.langchain'",
      "\nDuring handling of the above exception, another exception occurred:\n",
      "\u001b[0;31mImportError\u001b[0m                               Traceback (most recent call last)",
      "Cell \u001b[0;32mIn[35], line 8\u001b[0m\n\u001b[1;32m      3\u001b[0m llm \u001b[38;5;241m=\u001b[39m Ollama(model\u001b[38;5;241m=\u001b[39m\u001b[38;5;124m\"\u001b[39m\u001b[38;5;124mllama3\u001b[39m\u001b[38;5;124m\"\u001b[39m)\n\u001b[1;32m      5\u001b[0m \u001b[38;5;28;01mfrom\u001b[39;00m \u001b[38;5;21;01mlangchain_community\u001b[39;00m\u001b[38;5;21;01m.\u001b[39;00m\u001b[38;5;21;01membeddings\u001b[39;00m \u001b[38;5;28;01mimport\u001b[39;00m OllamaEmbeddings\n\u001b[0;32m----> 8\u001b[0m service_context\u001b[38;5;241m=\u001b[39m\u001b[43mServiceContext\u001b[49m\u001b[38;5;241;43m.\u001b[39;49m\u001b[43mfrom_defaults\u001b[49m\u001b[43m(\u001b[49m\n\u001b[1;32m      9\u001b[0m \u001b[43m    \u001b[49m\u001b[43mchunk_size\u001b[49m\u001b[38;5;241;43m=\u001b[39;49m\u001b[38;5;241;43m1024\u001b[39;49m\u001b[43m,\u001b[49m\n\u001b[1;32m     10\u001b[0m \u001b[43m    \u001b[49m\u001b[43mllm\u001b[49m\u001b[38;5;241;43m=\u001b[39;49m\u001b[43mllm\u001b[49m\u001b[43m,\u001b[49m\n\u001b[1;32m     11\u001b[0m \u001b[43m    \u001b[49m\u001b[43membed_model\u001b[49m\u001b[38;5;241;43m=\u001b[39;49m\u001b[43mOllamaEmbeddings\u001b[49m\u001b[43m(\u001b[49m\u001b[43m)\u001b[49m\n\u001b[1;32m     12\u001b[0m \u001b[43m)\u001b[49m\n\u001b[1;32m     14\u001b[0m index\u001b[38;5;241m=\u001b[39mVectorStoreIndex\u001b[38;5;241m.\u001b[39mfrom_documents(documents, service_context\u001b[38;5;241m=\u001b[39mservice_context)\n",
      "File \u001b[0;32m~/Documents/projects/copiolot/venv/lib/python3.11/site-packages/deprecated/classic.py:285\u001b[0m, in \u001b[0;36mdeprecated.<locals>.wrapper_function\u001b[0;34m(wrapped_, instance_, args_, kwargs_)\u001b[0m\n\u001b[1;32m    283\u001b[0m \u001b[38;5;28;01melse\u001b[39;00m:\n\u001b[1;32m    284\u001b[0m     warnings\u001b[38;5;241m.\u001b[39mwarn(msg, category\u001b[38;5;241m=\u001b[39mcategory, stacklevel\u001b[38;5;241m=\u001b[39m_routine_stacklevel)\n\u001b[0;32m--> 285\u001b[0m \u001b[38;5;28;01mreturn\u001b[39;00m \u001b[43mwrapped_\u001b[49m\u001b[43m(\u001b[49m\u001b[38;5;241;43m*\u001b[39;49m\u001b[43margs_\u001b[49m\u001b[43m,\u001b[49m\u001b[43m \u001b[49m\u001b[38;5;241;43m*\u001b[39;49m\u001b[38;5;241;43m*\u001b[39;49m\u001b[43mkwargs_\u001b[49m\u001b[43m)\u001b[49m\n",
      "File \u001b[0;32m~/Documents/projects/copiolot/venv/lib/python3.11/site-packages/llama_index/core/service_context.py:178\u001b[0m, in \u001b[0;36mServiceContext.from_defaults\u001b[0;34m(cls, llm_predictor, llm, prompt_helper, embed_model, node_parser, text_splitter, transformations, llama_logger, callback_manager, system_prompt, query_wrapper_prompt, pydantic_program_mode, chunk_size, chunk_overlap, context_window, num_output, chunk_size_limit)\u001b[0m\n\u001b[1;32m    176\u001b[0m \u001b[38;5;28;01mif\u001b[39;00m llm_predictor \u001b[38;5;129;01mis\u001b[39;00m \u001b[38;5;129;01mnot\u001b[39;00m \u001b[38;5;28;01mNone\u001b[39;00m:\n\u001b[1;32m    177\u001b[0m     \u001b[38;5;28;01mraise\u001b[39;00m \u001b[38;5;167;01mValueError\u001b[39;00m(\u001b[38;5;124m\"\u001b[39m\u001b[38;5;124mCannot specify both llm and llm_predictor\u001b[39m\u001b[38;5;124m\"\u001b[39m)\n\u001b[0;32m--> 178\u001b[0m llm \u001b[38;5;241m=\u001b[39m \u001b[43mresolve_llm\u001b[49m\u001b[43m(\u001b[49m\u001b[43mllm\u001b[49m\u001b[43m)\u001b[49m\n\u001b[1;32m    179\u001b[0m llm\u001b[38;5;241m.\u001b[39msystem_prompt \u001b[38;5;241m=\u001b[39m llm\u001b[38;5;241m.\u001b[39msystem_prompt \u001b[38;5;129;01mor\u001b[39;00m system_prompt\n\u001b[1;32m    180\u001b[0m llm\u001b[38;5;241m.\u001b[39mquery_wrapper_prompt \u001b[38;5;241m=\u001b[39m llm\u001b[38;5;241m.\u001b[39mquery_wrapper_prompt \u001b[38;5;129;01mor\u001b[39;00m query_wrapper_prompt\n",
      "File \u001b[0;32m~/Documents/projects/copiolot/venv/lib/python3.11/site-packages/llama_index/core/llms/utils.py:94\u001b[0m, in \u001b[0;36mresolve_llm\u001b[0;34m(llm, callback_manager)\u001b[0m\n\u001b[1;32m     92\u001b[0m         llm \u001b[38;5;241m=\u001b[39m LangChainLLM(llm\u001b[38;5;241m=\u001b[39mllm)\n\u001b[1;32m     93\u001b[0m     \u001b[38;5;28;01mexcept\u001b[39;00m \u001b[38;5;167;01mImportError\u001b[39;00m:\n\u001b[0;32m---> 94\u001b[0m         \u001b[38;5;28;01mraise\u001b[39;00m \u001b[38;5;167;01mImportError\u001b[39;00m(\n\u001b[1;32m     95\u001b[0m             \u001b[38;5;124m\"\u001b[39m\u001b[38;5;124m`llama-index-llms-langchain` package not found, \u001b[39m\u001b[38;5;124m\"\u001b[39m\n\u001b[1;32m     96\u001b[0m             \u001b[38;5;124m\"\u001b[39m\u001b[38;5;124mplease run `pip install llama-index-llms-langchain`\u001b[39m\u001b[38;5;124m\"\u001b[39m\n\u001b[1;32m     97\u001b[0m         )\n\u001b[1;32m     98\u001b[0m \u001b[38;5;28;01melif\u001b[39;00m llm \u001b[38;5;129;01mis\u001b[39;00m \u001b[38;5;28;01mNone\u001b[39;00m:\n\u001b[1;32m     99\u001b[0m     \u001b[38;5;28mprint\u001b[39m(\u001b[38;5;124m\"\u001b[39m\u001b[38;5;124mLLM is explicitly disabled. Using MockLLM.\u001b[39m\u001b[38;5;124m\"\u001b[39m)\n",
      "\u001b[0;31mImportError\u001b[0m: `llama-index-llms-langchain` package not found, please run `pip install llama-index-llms-langchain`"
     ]
    }
   ],
   "source": [
    "# from llama_index.embeddings import LangchainEmbedding\n",
    "\n",
    "index=VectorStoreIndex.from_documents(documents, service_context=service_context)\n"
   ]
  },
  {
   "cell_type": "code",
   "execution_count": null,
   "metadata": {},
   "outputs": [],
   "source": [
    "query_engine=index.as_query_engine()\n"
   ]
  }
 ],
 "metadata": {
  "kernelspec": {
   "display_name": "venv",
   "language": "python",
   "name": "python3"
  },
  "language_info": {
   "codemirror_mode": {
    "name": "ipython",
    "version": 3
   },
   "file_extension": ".py",
   "mimetype": "text/x-python",
   "name": "python",
   "nbconvert_exporter": "python",
   "pygments_lexer": "ipython3",
   "version": "3.11.6"
  }
 },
 "nbformat": 4,
 "nbformat_minor": 2
}
