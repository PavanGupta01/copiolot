{
 "cells": [
  {
   "cell_type": "code",
   "execution_count": 11,
   "metadata": {},
   "outputs": [
    {
     "data": {
      "text/plain": [
       "[Document(page_content='Pavan Gupta\\nSolutions Architect AI\\nAddress: Pune, Maharashtra, 411045\\nEmail: pvn.gupta.2009@gmail.com\\nPhone: +91 9730021660\\nLinkedIn: pavan-gupta-3a051b30\\nGithub PavanGupta01\\nStake Overflow pavan-gupta\\nFull-stack Lead AI Developer/Architect with 13+ years of experience specializing in converting ideas into products\\nand building solutions from the ground up for US-based startups. Expertise includes Data Science, Application\\nDevelopment, AI/ML Ops and Project Management.\\nProven track record over the last 7+ years in leading design and development of MVPs and production-ready\\nsystems, delivering AI-enabled, data-driven products in fast-paced environments.\\nLeading the development of an Enterprise-RAG platform utilizing llamaindex, Information-Retrieval workflow which\\nleverages OpenAI-ChatGPt & Langchain on AWS cloud for market research product.\\nKey Skills\\nCore Skills: Python, AI, AWS, Architecture, Web Development, Agile.\\nDomains: Financial Systems - BFSI, Ed tech, Telecom\\nGenerative AI: RAG, LLM, ChatGPT, Langchain, Llamaindex, Ollama, Prompt Engineering, Conversational AI using\\nChatbot.\\nNew Skills: AI Agents (Agentic RAG), Langgraph, Responsible AI.\\nTools / Frameworks: FastAPI, Django, Flask, Postgres, Elastic Search, SQLAlchemy, Natural language processing –\\nNLP, Pandas, Jenkins, Docker, Ansible.\\nConcepts: LLM, Information retrieval, ML Ops, AI Ops, Agile, Serverless, Microservices, RestAPIs, System Design,\\nAPI Design, Async Processing, Event Driven Design, Database Design, ETL, Data Migration, Data Pipeline.\\nAWS Cloud Services: Sagemaker, Lambda, API Gateway, DynamoDB (NoSQL DB), QuickSight (BI tool), S3\\n(Datalake), Redshift, SNS, SQS (queue), Cloud Watch (Logging and monitoring), ECS, EKS (Kubernetes), Cognito,\\nAuroraDB RDS.\\nManagement: Architecture, Team Leader, Sprint Planning, Product Management, Delivery Management, Project\\nManagement.\\nProfessional Experience\\nCompany: GSLab, Pune\\nDuration: July-2015 to Present (9 years)\\nRole: Solutions Architect AI\\nProduct-1: Opportunities\\nSkills: Information Retrieval, RAG, Langchain, Chat GPT (LLM), FastAPI.\\nAWS Services: Sagemaker, S3, SQS, SNS, ECS, Lambda, Dynamo-Db, Opensearch, Quicksight.\\nApplication for ﬁnding business leads (needle in haystack) from company ﬁlings, reports, announcements,\\nnews feeds and user uploaded pdf ﬁles\\n', metadata={'source': '../CV-Pavan-13yrs-Python-AI.pdf', 'file_path': '../CV-Pavan-13yrs-Python-AI.pdf', 'page': 0, 'total_pages': 4, 'format': 'PDF 1.4', 'title': 'CV-Pavan-13yrs-Python-AI', 'author': '', 'subject': '', 'keywords': '', 'creator': '', 'producer': 'Skia/PDF m128 Google Docs Renderer', 'creationDate': '', 'modDate': '', 'trapped': ''}),\n",
       " Document(page_content='●\\nData Load Pipeline: Designed and developed pipeline to process unstructured data from multiple\\nsources in real time with guaranteed processing using queue service. Implemented End to end\\nmonitoring of files and documents via live dashboard.\\n●\\nData Preprocessing Pipeline: Productionizing the Data Science ingestion code from multi step NLP\\npipeline to extract, clean, preprocess, vectorization (embeddings) the text data from pdf files.\\n●\\nRetrieval Pipeline: High-performance retrieval service to run real-time and scheduled searches.\\nVolume: 10,000 searches on up to 1000 documents per company for Fortune-500 companies on a\\ndaily basis to capture business enablement opportunities from daily news feeds.\\n●\\nProductionize logic of hybrid search (Semantic + Keywords) for better precision.\\n●\\nSuccessful implementation of product resulted in converting MVP into an enterprise product with\\nonboarding of 7 Fortune-1000 companies as licensed customers of this platform.\\nRole: Lead Data Scientist\\nProduct-2: Illuminate\\nSkills: Python, Data Mining, Data Preprocessing, ETL, Data Lake, Data Pipeline, Dashboard Embedding, Data\\nwarehousing.\\nAWS Services: Lambda, Dynamo-Db, S3, Aurora-Db, SQS, Redshift, QuickSight.\\nIlluminate provides a single account financial view to highlight actual to plan performance based on estimated\\naccount spend with five year forward and backward views.\\n●\\nAnalyzed business requirement related to company’s ﬁnancial data, identify suitable APIs on\\nThomson- Reuters, process, save and publish data on web application.\\n●\\nLEI Integration for company information and ownership hierarchy.\\n●\\nProductionized web-embeddable dashboards using AWS QuickSight and Redshift to display account\\ninsights.\\nRole: Manager Engineering\\nProduct-3: Enterprise B2B SaaS Platform\\nSkills: Python, FastAPI, AWS, Agile, Serverless, Delivery Management, Project Management, Elastic Search,\\nPostgres.\\nAWS Services: Cognito, Lambda, API Gateway, DynamoDB, EKS, S3, EC-2, SQS, SNS, Quicksight.\\nGo to customer B2B Enterprise SaaS platform. Utilizing AWS Serverless and Python, React stack.\\nAccount360: Go to customer platform for B2B organizations to protect, retain, and grow large accounts.\\n●\\nProject Management: Led design and implementation of Enterprise B2B SaaS platform from scratch,\\nleveraging AWS - Serverless architecture and EKS for scalability.\\n●\\nStrategy and Decision Making: Drove strategic and tactical decision-making in technology,\\nprocesses, and team management, for improving efficiency and output.\\n●\\nArchitecture and Design: Defined scalable architecture, API specs, database design, standard\\nguidelines, and tracked deliverable progress.\\n●\\nProcess Optimization: Identified and addressed knowledge, tool, and process gaps to ensure\\nhighest quality and on-time delivery.\\n●\\nTeam Building: Built high-performing teams and contributed to core backend components, resulting\\nin project success.\\n●\\nSuccessful product implementation resulted in converting MVP into an enterprise product,\\nonboarding 7 Fortune companies as licensed customers.\\n●\\nGrown client account size to 4X in 3 years, generating an additional $1 million in annual revenue.\\nRole: Lead Engineer - AI\\nProduct: Product Recommendation engine for digital content platform.\\nSkills: MLE, NLP, Pandas, Scikit-learn, Gensim, Python, Django, Elastic Search.\\n', metadata={'source': '../CV-Pavan-13yrs-Python-AI.pdf', 'file_path': '../CV-Pavan-13yrs-Python-AI.pdf', 'page': 1, 'total_pages': 4, 'format': 'PDF 1.4', 'title': 'CV-Pavan-13yrs-Python-AI', 'author': '', 'subject': '', 'keywords': '', 'creator': '', 'producer': 'Skia/PDF m128 Google Docs Renderer', 'creationDate': '', 'modDate': '', 'trapped': ''}),\n",
       " Document(page_content='●\\nSummary Generation: Developed a multi-step NLP pipeline to extract, clean, preprocess, and generate\\ncontent summaries, increasing product visibility in user searches by 70%.\\n●\\nDocument Tagging: Created an NLP-based tags detection algorithm, significantly boosting document\\nvisibility.\\n●\\nProduct Recommendation: Implemented a recommendation engine using user and product data matching\\nRole: Lead Backend Engineer - Python\\nProduct: Digital Content e-commerce platform\\nSkills: Python, Django, DRF, Elastic Search, Redis, Celery, RabbitMQ, MySQL, REST-API, Pytest, A/B Testing,\\nPayment Gateway Integration, Redshift.\\nDeveloped a digital content platform, and integrated Payment gateways for a US based Edtech startup. used\\nby ~90 million users and ~1 million weekly active users.\\n●\\nProduct Lifecycle: Implemented REST APIs for product lifecycle including media content upload.\\n●\\nModeration workflow: Designed and implemented content moderation flow for product review before\\npublishing.\\n●\\nPayment Gateway Integration: Integrated PayPal and Stripe payment gateways.\\n●\\nLogging and Monitoring: Implemented logging and monitoring framework for end-to-end product life cycle,\\nmoderation, and payments.\\n●\\nReporting: Developed user activity tracking framework and product consumption reports for stakeholders.\\n●\\nDatabase Design:\\n●\\nA/B Tests: Collaborated with Product Management to implement data-driven feature strategy using A/B tests.\\nRole: Senior Software Engineer\\nProduct: Aerospike (NoSQL Database).\\nSkills: Python, Aerospike, Pytest, Docker, Jenkins, Ansible.\\n●\\nImplemented Jenkins based CI/CD pipeline for NoSQL database connectors builds.\\n●\\nEngineered dockerfiles to test NoSQL DB connector libraries against various OS and programming language\\nversions e.g.\\nhttps://github.com/PavanGupta01/devops/blob/master/docker/aerospike/c16_py_core\\n●\\nContributed to the backend for a web-based cluster monitoring system for NoSQL DB.\\nCompany: Synerzip (now Excellarate), Pune\\nRole: Senior Software engineer\\nDuration: July-2013 to June-2015 (2 Years)\\nRole: Senior Software Engineer (2 Years)\\nProduct-1: QuickOffice (Google product)\\nSkills: Django, Python, DevOps, Jenkins, CI/CD, Docker, Ansible.\\nQuickOffice is Google’s product that allows users to edit Word, Excel, and presentation files offline in\\nChrome.\\n●\\nSet up CI pipeline with Bamboo, Jenkins, Ansible, and Docker, reducing build shipping time\\nby 40%.\\n●\\nDeveloped and maintained test automation frameworks.\\n●\\nEngineered a web-based tool to automate build testing.\\nCompany: Amdocs, Pune\\n', metadata={'source': '../CV-Pavan-13yrs-Python-AI.pdf', 'file_path': '../CV-Pavan-13yrs-Python-AI.pdf', 'page': 2, 'total_pages': 4, 'format': 'PDF 1.4', 'title': 'CV-Pavan-13yrs-Python-AI', 'author': '', 'subject': '', 'keywords': '', 'creator': '', 'producer': 'Skia/PDF m128 Google Docs Renderer', 'creationDate': '', 'modDate': '', 'trapped': ''}),\n",
       " Document(page_content='Role: Subject Matter Expert (SME)\\nDuration: July-2011 to June-2013 (2 years)\\nProduct: E-Commerce Platform (used by ~50 mn users)\\nSkills: Python, Java, Selenium, Test automation, Test execution, Manual testing.\\n●\\nDesigned test automation framework and end-to-end scenarios, reducing manual testing efforts by 70%.\\n●\\nDeveloped QC and JIRA synchronization tools, saving ~30 hours of monthly manpower.\\n●\\nClustered and identified requirements from SRS documents.\\n●\\nPrepared and executed test plans based on software requirements.\\nEducation\\nRIT / Masters in Computer Applications ( MCA )\\nJul 2008 - Jun 2011, Indore\\nMCRPV / Bachelors of Computer Applications ( BCA )\\nJul 2005 - Jun 2008, Rajgarh\\nCertiﬁcations and Award\\n●\\nGitHub Copilot: The AI Pair Programmer for Coding - Coursera Specialization\\nDelve deeply into the artificial intelligence technologies that drive GitHub Copilot.\\n●\\nGenerative AI for Everyone - Coursera Specialization\\nAI Fundamentals and Applications in Daily Life\\n●\\nAchiever of the Year (2020 - 21) - GSLab\\nPrestigious yearly award for values and excellence in terms of achieving client appreciation, technical\\ncontribution, and building an ethical culture at work.\\n●\\nAerospike Developer And Administration - AerospikeDB\\nOpen-Source Contribution\\nProduct: Aerospike-Admin (Distributed NoSQL DB)\\n●\\nhttps://github.com/aerospike/aerospike-admin/commits?author=PavanGupta01\\n●\\nhttps://github.com/aerospike/aerospike-admin/pull/25/files\\nAerospike Admin provides an interface for Aerospike users to view the stat of their Aerospike Cluster by fetching\\ninformation from a running cluster.\\nInterests\\nBadminton, Personal finance.\\n', metadata={'source': '../CV-Pavan-13yrs-Python-AI.pdf', 'file_path': '../CV-Pavan-13yrs-Python-AI.pdf', 'page': 3, 'total_pages': 4, 'format': 'PDF 1.4', 'title': 'CV-Pavan-13yrs-Python-AI', 'author': '', 'subject': '', 'keywords': '', 'creator': '', 'producer': 'Skia/PDF m128 Google Docs Renderer', 'creationDate': '', 'modDate': '', 'trapped': ''})]"
      ]
     },
     "execution_count": 11,
     "metadata": {},
     "output_type": "execute_result"
    }
   ],
   "source": [
    "# Reading from PDF Loader\n",
    "from langchain_community.document_loaders import PyMuPDFLoader\n",
    "\n",
    "loader = PyMuPDFLoader('../CV-Pavan-13yrs-Python-AI.pdf')\n",
    "pdf_document = loader.load()\n",
    "pdf_document\n"
   ]
  },
  {
   "cell_type": "code",
   "execution_count": 12,
   "metadata": {},
   "outputs": [
    {
     "data": {
      "text/plain": [
       "[Document(page_content='Pavan Gupta\\nSolutions Architect AI\\nAddress: Pune, Maharashtra, 411045\\nEmail: pvn.gupta.2009@gmail.com\\nPhone: +91 9730021660\\nLinkedIn: pavan-gupta-3a051b30\\nGithub PavanGupta01\\nStake Overflow pavan-gupta\\nFull-stack Lead AI Developer/Architect with 13+ years of experience specializing in converting ideas into products\\nand building solutions from the ground up for US-based startups. Expertise includes Data Science, Application\\nDevelopment, AI/ML Ops and Project Management.\\nProven track record over the last 7+ years in leading design and development of MVPs and production-ready\\nsystems, delivering AI-enabled, data-driven products in fast-paced environments.\\nLeading the development of an Enterprise-RAG platform utilizing llamaindex, Information-Retrieval workflow which\\nleverages OpenAI-ChatGPt & Langchain on AWS cloud for market research product.\\nKey Skills\\nCore Skills: Python, AI, AWS, Architecture, Web Development, Agile.\\nDomains: Financial Systems - BFSI, Ed tech, Telecom', metadata={'source': '../CV-Pavan-13yrs-Python-AI.pdf', 'file_path': '../CV-Pavan-13yrs-Python-AI.pdf', 'page': 0, 'total_pages': 4, 'format': 'PDF 1.4', 'title': 'CV-Pavan-13yrs-Python-AI', 'author': '', 'subject': '', 'keywords': '', 'creator': '', 'producer': 'Skia/PDF m128 Google Docs Renderer', 'creationDate': '', 'modDate': '', 'trapped': ''}),\n",
       " Document(page_content='Key Skills\\nCore Skills: Python, AI, AWS, Architecture, Web Development, Agile.\\nDomains: Financial Systems - BFSI, Ed tech, Telecom\\nGenerative AI: RAG, LLM, ChatGPT, Langchain, Llamaindex, Ollama, Prompt Engineering, Conversational AI using\\nChatbot.\\nNew Skills: AI Agents (Agentic RAG), Langgraph, Responsible AI.\\nTools / Frameworks: FastAPI, Django, Flask, Postgres, Elastic Search, SQLAlchemy, Natural language processing –\\nNLP, Pandas, Jenkins, Docker, Ansible.\\nConcepts: LLM, Information retrieval, ML Ops, AI Ops, Agile, Serverless, Microservices, RestAPIs, System Design,\\nAPI Design, Async Processing, Event Driven Design, Database Design, ETL, Data Migration, Data Pipeline.\\nAWS Cloud Services: Sagemaker, Lambda, API Gateway, DynamoDB (NoSQL DB), QuickSight (BI tool), S3\\n(Datalake), Redshift, SNS, SQS (queue), Cloud Watch (Logging and monitoring), ECS, EKS (Kubernetes), Cognito,\\nAuroraDB RDS.', metadata={'source': '../CV-Pavan-13yrs-Python-AI.pdf', 'file_path': '../CV-Pavan-13yrs-Python-AI.pdf', 'page': 0, 'total_pages': 4, 'format': 'PDF 1.4', 'title': 'CV-Pavan-13yrs-Python-AI', 'author': '', 'subject': '', 'keywords': '', 'creator': '', 'producer': 'Skia/PDF m128 Google Docs Renderer', 'creationDate': '', 'modDate': '', 'trapped': ''}),\n",
       " Document(page_content='(Datalake), Redshift, SNS, SQS (queue), Cloud Watch (Logging and monitoring), ECS, EKS (Kubernetes), Cognito,\\nAuroraDB RDS.\\nManagement: Architecture, Team Leader, Sprint Planning, Product Management, Delivery Management, Project\\nManagement.\\nProfessional Experience\\nCompany: GSLab, Pune\\nDuration: July-2015 to Present (9 years)\\nRole: Solutions Architect AI\\nProduct-1: Opportunities\\nSkills: Information Retrieval, RAG, Langchain, Chat GPT (LLM), FastAPI.\\nAWS Services: Sagemaker, S3, SQS, SNS, ECS, Lambda, Dynamo-Db, Opensearch, Quicksight.\\nApplication for ﬁnding business leads (needle in haystack) from company ﬁlings, reports, announcements,\\nnews feeds and user uploaded pdf ﬁles', metadata={'source': '../CV-Pavan-13yrs-Python-AI.pdf', 'file_path': '../CV-Pavan-13yrs-Python-AI.pdf', 'page': 0, 'total_pages': 4, 'format': 'PDF 1.4', 'title': 'CV-Pavan-13yrs-Python-AI', 'author': '', 'subject': '', 'keywords': '', 'creator': '', 'producer': 'Skia/PDF m128 Google Docs Renderer', 'creationDate': '', 'modDate': '', 'trapped': ''}),\n",
       " Document(page_content='●\\nData Load Pipeline: Designed and developed pipeline to process unstructured data from multiple\\nsources in real time with guaranteed processing using queue service. Implemented End to end\\nmonitoring of files and documents via live dashboard.\\n●\\nData Preprocessing Pipeline: Productionizing the Data Science ingestion code from multi step NLP\\npipeline to extract, clean, preprocess, vectorization (embeddings) the text data from pdf files.\\n●\\nRetrieval Pipeline: High-performance retrieval service to run real-time and scheduled searches.\\nVolume: 10,000 searches on up to 1000 documents per company for Fortune-500 companies on a\\ndaily basis to capture business enablement opportunities from daily news feeds.\\n●\\nProductionize logic of hybrid search (Semantic + Keywords) for better precision.\\n●\\nSuccessful implementation of product resulted in converting MVP into an enterprise product with\\nonboarding of 7 Fortune-1000 companies as licensed customers of this platform.\\nRole: Lead Data Scientist', metadata={'source': '../CV-Pavan-13yrs-Python-AI.pdf', 'file_path': '../CV-Pavan-13yrs-Python-AI.pdf', 'page': 1, 'total_pages': 4, 'format': 'PDF 1.4', 'title': 'CV-Pavan-13yrs-Python-AI', 'author': '', 'subject': '', 'keywords': '', 'creator': '', 'producer': 'Skia/PDF m128 Google Docs Renderer', 'creationDate': '', 'modDate': '', 'trapped': ''}),\n",
       " Document(page_content='onboarding of 7 Fortune-1000 companies as licensed customers of this platform.\\nRole: Lead Data Scientist\\nProduct-2: Illuminate\\nSkills: Python, Data Mining, Data Preprocessing, ETL, Data Lake, Data Pipeline, Dashboard Embedding, Data\\nwarehousing.\\nAWS Services: Lambda, Dynamo-Db, S3, Aurora-Db, SQS, Redshift, QuickSight.\\nIlluminate provides a single account financial view to highlight actual to plan performance based on estimated\\naccount spend with five year forward and backward views.\\n●\\nAnalyzed business requirement related to company’s ﬁnancial data, identify suitable APIs on\\nThomson- Reuters, process, save and publish data on web application.\\n●\\nLEI Integration for company information and ownership hierarchy.\\n●\\nProductionized web-embeddable dashboards using AWS QuickSight and Redshift to display account\\ninsights.\\nRole: Manager Engineering\\nProduct-3: Enterprise B2B SaaS Platform\\nSkills: Python, FastAPI, AWS, Agile, Serverless, Delivery Management, Project Management, Elastic Search,', metadata={'source': '../CV-Pavan-13yrs-Python-AI.pdf', 'file_path': '../CV-Pavan-13yrs-Python-AI.pdf', 'page': 1, 'total_pages': 4, 'format': 'PDF 1.4', 'title': 'CV-Pavan-13yrs-Python-AI', 'author': '', 'subject': '', 'keywords': '', 'creator': '', 'producer': 'Skia/PDF m128 Google Docs Renderer', 'creationDate': '', 'modDate': '', 'trapped': ''}),\n",
       " Document(page_content='insights.\\nRole: Manager Engineering\\nProduct-3: Enterprise B2B SaaS Platform\\nSkills: Python, FastAPI, AWS, Agile, Serverless, Delivery Management, Project Management, Elastic Search,\\nPostgres.\\nAWS Services: Cognito, Lambda, API Gateway, DynamoDB, EKS, S3, EC-2, SQS, SNS, Quicksight.\\nGo to customer B2B Enterprise SaaS platform. Utilizing AWS Serverless and Python, React stack.\\nAccount360: Go to customer platform for B2B organizations to protect, retain, and grow large accounts.\\n●\\nProject Management: Led design and implementation of Enterprise B2B SaaS platform from scratch,\\nleveraging AWS - Serverless architecture and EKS for scalability.\\n●\\nStrategy and Decision Making: Drove strategic and tactical decision-making in technology,\\nprocesses, and team management, for improving efficiency and output.\\n●\\nArchitecture and Design: Defined scalable architecture, API specs, database design, standard\\nguidelines, and tracked deliverable progress.\\n●', metadata={'source': '../CV-Pavan-13yrs-Python-AI.pdf', 'file_path': '../CV-Pavan-13yrs-Python-AI.pdf', 'page': 1, 'total_pages': 4, 'format': 'PDF 1.4', 'title': 'CV-Pavan-13yrs-Python-AI', 'author': '', 'subject': '', 'keywords': '', 'creator': '', 'producer': 'Skia/PDF m128 Google Docs Renderer', 'creationDate': '', 'modDate': '', 'trapped': ''}),\n",
       " Document(page_content='●\\nArchitecture and Design: Defined scalable architecture, API specs, database design, standard\\nguidelines, and tracked deliverable progress.\\n●\\nProcess Optimization: Identified and addressed knowledge, tool, and process gaps to ensure\\nhighest quality and on-time delivery.\\n●\\nTeam Building: Built high-performing teams and contributed to core backend components, resulting\\nin project success.\\n●\\nSuccessful product implementation resulted in converting MVP into an enterprise product,\\nonboarding 7 Fortune companies as licensed customers.\\n●\\nGrown client account size to 4X in 3 years, generating an additional $1 million in annual revenue.\\nRole: Lead Engineer - AI\\nProduct: Product Recommendation engine for digital content platform.\\nSkills: MLE, NLP, Pandas, Scikit-learn, Gensim, Python, Django, Elastic Search.', metadata={'source': '../CV-Pavan-13yrs-Python-AI.pdf', 'file_path': '../CV-Pavan-13yrs-Python-AI.pdf', 'page': 1, 'total_pages': 4, 'format': 'PDF 1.4', 'title': 'CV-Pavan-13yrs-Python-AI', 'author': '', 'subject': '', 'keywords': '', 'creator': '', 'producer': 'Skia/PDF m128 Google Docs Renderer', 'creationDate': '', 'modDate': '', 'trapped': ''}),\n",
       " Document(page_content='●\\nSummary Generation: Developed a multi-step NLP pipeline to extract, clean, preprocess, and generate\\ncontent summaries, increasing product visibility in user searches by 70%.\\n●\\nDocument Tagging: Created an NLP-based tags detection algorithm, significantly boosting document\\nvisibility.\\n●\\nProduct Recommendation: Implemented a recommendation engine using user and product data matching\\nRole: Lead Backend Engineer - Python\\nProduct: Digital Content e-commerce platform\\nSkills: Python, Django, DRF, Elastic Search, Redis, Celery, RabbitMQ, MySQL, REST-API, Pytest, A/B Testing,\\nPayment Gateway Integration, Redshift.\\nDeveloped a digital content platform, and integrated Payment gateways for a US based Edtech startup. used\\nby ~90 million users and ~1 million weekly active users.\\n●\\nProduct Lifecycle: Implemented REST APIs for product lifecycle including media content upload.\\n●\\nModeration workflow: Designed and implemented content moderation flow for product review before\\npublishing.\\n●', metadata={'source': '../CV-Pavan-13yrs-Python-AI.pdf', 'file_path': '../CV-Pavan-13yrs-Python-AI.pdf', 'page': 2, 'total_pages': 4, 'format': 'PDF 1.4', 'title': 'CV-Pavan-13yrs-Python-AI', 'author': '', 'subject': '', 'keywords': '', 'creator': '', 'producer': 'Skia/PDF m128 Google Docs Renderer', 'creationDate': '', 'modDate': '', 'trapped': ''}),\n",
       " Document(page_content='●\\nModeration workflow: Designed and implemented content moderation flow for product review before\\npublishing.\\n●\\nPayment Gateway Integration: Integrated PayPal and Stripe payment gateways.\\n●\\nLogging and Monitoring: Implemented logging and monitoring framework for end-to-end product life cycle,\\nmoderation, and payments.\\n●\\nReporting: Developed user activity tracking framework and product consumption reports for stakeholders.\\n●\\nDatabase Design:\\n●\\nA/B Tests: Collaborated with Product Management to implement data-driven feature strategy using A/B tests.\\nRole: Senior Software Engineer\\nProduct: Aerospike (NoSQL Database).\\nSkills: Python, Aerospike, Pytest, Docker, Jenkins, Ansible.\\n●\\nImplemented Jenkins based CI/CD pipeline for NoSQL database connectors builds.\\n●\\nEngineered dockerfiles to test NoSQL DB connector libraries against various OS and programming language\\nversions e.g.\\nhttps://github.com/PavanGupta01/devops/blob/master/docker/aerospike/c16_py_core\\n●', metadata={'source': '../CV-Pavan-13yrs-Python-AI.pdf', 'file_path': '../CV-Pavan-13yrs-Python-AI.pdf', 'page': 2, 'total_pages': 4, 'format': 'PDF 1.4', 'title': 'CV-Pavan-13yrs-Python-AI', 'author': '', 'subject': '', 'keywords': '', 'creator': '', 'producer': 'Skia/PDF m128 Google Docs Renderer', 'creationDate': '', 'modDate': '', 'trapped': ''}),\n",
       " Document(page_content='Engineered dockerfiles to test NoSQL DB connector libraries against various OS and programming language\\nversions e.g.\\nhttps://github.com/PavanGupta01/devops/blob/master/docker/aerospike/c16_py_core\\n●\\nContributed to the backend for a web-based cluster monitoring system for NoSQL DB.\\nCompany: Synerzip (now Excellarate), Pune\\nRole: Senior Software engineer\\nDuration: July-2013 to June-2015 (2 Years)\\nRole: Senior Software Engineer (2 Years)\\nProduct-1: QuickOffice (Google product)\\nSkills: Django, Python, DevOps, Jenkins, CI/CD, Docker, Ansible.\\nQuickOffice is Google’s product that allows users to edit Word, Excel, and presentation files offline in\\nChrome.\\n●\\nSet up CI pipeline with Bamboo, Jenkins, Ansible, and Docker, reducing build shipping time\\nby 40%.\\n●\\nDeveloped and maintained test automation frameworks.\\n●\\nEngineered a web-based tool to automate build testing.\\nCompany: Amdocs, Pune', metadata={'source': '../CV-Pavan-13yrs-Python-AI.pdf', 'file_path': '../CV-Pavan-13yrs-Python-AI.pdf', 'page': 2, 'total_pages': 4, 'format': 'PDF 1.4', 'title': 'CV-Pavan-13yrs-Python-AI', 'author': '', 'subject': '', 'keywords': '', 'creator': '', 'producer': 'Skia/PDF m128 Google Docs Renderer', 'creationDate': '', 'modDate': '', 'trapped': ''}),\n",
       " Document(page_content='Role: Subject Matter Expert (SME)\\nDuration: July-2011 to June-2013 (2 years)\\nProduct: E-Commerce Platform (used by ~50 mn users)\\nSkills: Python, Java, Selenium, Test automation, Test execution, Manual testing.\\n●\\nDesigned test automation framework and end-to-end scenarios, reducing manual testing efforts by 70%.\\n●\\nDeveloped QC and JIRA synchronization tools, saving ~30 hours of monthly manpower.\\n●\\nClustered and identified requirements from SRS documents.\\n●\\nPrepared and executed test plans based on software requirements.\\nEducation\\nRIT / Masters in Computer Applications ( MCA )\\nJul 2008 - Jun 2011, Indore\\nMCRPV / Bachelors of Computer Applications ( BCA )\\nJul 2005 - Jun 2008, Rajgarh\\nCertiﬁcations and Award\\n●\\nGitHub Copilot: The AI Pair Programmer for Coding - Coursera Specialization\\nDelve deeply into the artificial intelligence technologies that drive GitHub Copilot.\\n●\\nGenerative AI for Everyone - Coursera Specialization\\nAI Fundamentals and Applications in Daily Life\\n●', metadata={'source': '../CV-Pavan-13yrs-Python-AI.pdf', 'file_path': '../CV-Pavan-13yrs-Python-AI.pdf', 'page': 3, 'total_pages': 4, 'format': 'PDF 1.4', 'title': 'CV-Pavan-13yrs-Python-AI', 'author': '', 'subject': '', 'keywords': '', 'creator': '', 'producer': 'Skia/PDF m128 Google Docs Renderer', 'creationDate': '', 'modDate': '', 'trapped': ''}),\n",
       " Document(page_content='Delve deeply into the artificial intelligence technologies that drive GitHub Copilot.\\n●\\nGenerative AI for Everyone - Coursera Specialization\\nAI Fundamentals and Applications in Daily Life\\n●\\nAchiever of the Year (2020 - 21) - GSLab\\nPrestigious yearly award for values and excellence in terms of achieving client appreciation, technical\\ncontribution, and building an ethical culture at work.\\n●\\nAerospike Developer And Administration - AerospikeDB\\nOpen-Source Contribution\\nProduct: Aerospike-Admin (Distributed NoSQL DB)\\n●\\nhttps://github.com/aerospike/aerospike-admin/commits?author=PavanGupta01\\n●\\nhttps://github.com/aerospike/aerospike-admin/pull/25/files\\nAerospike Admin provides an interface for Aerospike users to view the stat of their Aerospike Cluster by fetching\\ninformation from a running cluster.\\nInterests\\nBadminton, Personal finance.', metadata={'source': '../CV-Pavan-13yrs-Python-AI.pdf', 'file_path': '../CV-Pavan-13yrs-Python-AI.pdf', 'page': 3, 'total_pages': 4, 'format': 'PDF 1.4', 'title': 'CV-Pavan-13yrs-Python-AI', 'author': '', 'subject': '', 'keywords': '', 'creator': '', 'producer': 'Skia/PDF m128 Google Docs Renderer', 'creationDate': '', 'modDate': '', 'trapped': ''})]"
      ]
     },
     "execution_count": 12,
     "metadata": {},
     "output_type": "execute_result"
    }
   ],
   "source": [
    "from langchain.text_splitter import RecursiveCharacterTextSplitter\n",
    "\n",
    "text_splitter = RecursiveCharacterTextSplitter(chunk_size = 1000, chunk_overlap=200) \n",
    "documents = text_splitter.split_documents(pdf_document)\n",
    "documents"
   ]
  },
  {
   "cell_type": "code",
   "execution_count": 13,
   "metadata": {},
   "outputs": [],
   "source": [
    "## Vector Embeddings and Vectore store\n",
    "\n",
    "from langchain_community.embeddings import OllamaEmbeddings\n",
    "from langchain_community.vectorstores import FAISS\n",
    "\n",
    "db = FAISS.from_documents(documents[:20], OllamaEmbeddings())\n"
   ]
  },
  {
   "cell_type": "code",
   "execution_count": 14,
   "metadata": {},
   "outputs": [
    {
     "data": {
      "text/plain": [
       "[Document(page_content='onboarding of 7 Fortune-1000 companies as licensed customers of this platform.\\nRole: Lead Data Scientist\\nProduct-2: Illuminate\\nSkills: Python, Data Mining, Data Preprocessing, ETL, Data Lake, Data Pipeline, Dashboard Embedding, Data\\nwarehousing.\\nAWS Services: Lambda, Dynamo-Db, S3, Aurora-Db, SQS, Redshift, QuickSight.\\nIlluminate provides a single account financial view to highlight actual to plan performance based on estimated\\naccount spend with five year forward and backward views.\\n●\\nAnalyzed business requirement related to company’s ﬁnancial data, identify suitable APIs on\\nThomson- Reuters, process, save and publish data on web application.\\n●\\nLEI Integration for company information and ownership hierarchy.\\n●\\nProductionized web-embeddable dashboards using AWS QuickSight and Redshift to display account\\ninsights.\\nRole: Manager Engineering\\nProduct-3: Enterprise B2B SaaS Platform\\nSkills: Python, FastAPI, AWS, Agile, Serverless, Delivery Management, Project Management, Elastic Search,', metadata={'source': '../CV-Pavan-13yrs-Python-AI.pdf', 'file_path': '../CV-Pavan-13yrs-Python-AI.pdf', 'page': 1, 'total_pages': 4, 'format': 'PDF 1.4', 'title': 'CV-Pavan-13yrs-Python-AI', 'author': '', 'subject': '', 'keywords': '', 'creator': '', 'producer': 'Skia/PDF m128 Google Docs Renderer', 'creationDate': '', 'modDate': '', 'trapped': ''}),\n",
       " Document(page_content='Pavan Gupta\\nSolutions Architect AI\\nAddress: Pune, Maharashtra, 411045\\nEmail: pvn.gupta.2009@gmail.com\\nPhone: +91 9730021660\\nLinkedIn: pavan-gupta-3a051b30\\nGithub PavanGupta01\\nStake Overflow pavan-gupta\\nFull-stack Lead AI Developer/Architect with 13+ years of experience specializing in converting ideas into products\\nand building solutions from the ground up for US-based startups. Expertise includes Data Science, Application\\nDevelopment, AI/ML Ops and Project Management.\\nProven track record over the last 7+ years in leading design and development of MVPs and production-ready\\nsystems, delivering AI-enabled, data-driven products in fast-paced environments.\\nLeading the development of an Enterprise-RAG platform utilizing llamaindex, Information-Retrieval workflow which\\nleverages OpenAI-ChatGPt & Langchain on AWS cloud for market research product.\\nKey Skills\\nCore Skills: Python, AI, AWS, Architecture, Web Development, Agile.\\nDomains: Financial Systems - BFSI, Ed tech, Telecom', metadata={'source': '../CV-Pavan-13yrs-Python-AI.pdf', 'file_path': '../CV-Pavan-13yrs-Python-AI.pdf', 'page': 0, 'total_pages': 4, 'format': 'PDF 1.4', 'title': 'CV-Pavan-13yrs-Python-AI', 'author': '', 'subject': '', 'keywords': '', 'creator': '', 'producer': 'Skia/PDF m128 Google Docs Renderer', 'creationDate': '', 'modDate': '', 'trapped': ''}),\n",
       " Document(page_content='Key Skills\\nCore Skills: Python, AI, AWS, Architecture, Web Development, Agile.\\nDomains: Financial Systems - BFSI, Ed tech, Telecom\\nGenerative AI: RAG, LLM, ChatGPT, Langchain, Llamaindex, Ollama, Prompt Engineering, Conversational AI using\\nChatbot.\\nNew Skills: AI Agents (Agentic RAG), Langgraph, Responsible AI.\\nTools / Frameworks: FastAPI, Django, Flask, Postgres, Elastic Search, SQLAlchemy, Natural language processing –\\nNLP, Pandas, Jenkins, Docker, Ansible.\\nConcepts: LLM, Information retrieval, ML Ops, AI Ops, Agile, Serverless, Microservices, RestAPIs, System Design,\\nAPI Design, Async Processing, Event Driven Design, Database Design, ETL, Data Migration, Data Pipeline.\\nAWS Cloud Services: Sagemaker, Lambda, API Gateway, DynamoDB (NoSQL DB), QuickSight (BI tool), S3\\n(Datalake), Redshift, SNS, SQS (queue), Cloud Watch (Logging and monitoring), ECS, EKS (Kubernetes), Cognito,\\nAuroraDB RDS.', metadata={'source': '../CV-Pavan-13yrs-Python-AI.pdf', 'file_path': '../CV-Pavan-13yrs-Python-AI.pdf', 'page': 0, 'total_pages': 4, 'format': 'PDF 1.4', 'title': 'CV-Pavan-13yrs-Python-AI', 'author': '', 'subject': '', 'keywords': '', 'creator': '', 'producer': 'Skia/PDF m128 Google Docs Renderer', 'creationDate': '', 'modDate': '', 'trapped': ''}),\n",
       " Document(page_content='Engineered dockerfiles to test NoSQL DB connector libraries against various OS and programming language\\nversions e.g.\\nhttps://github.com/PavanGupta01/devops/blob/master/docker/aerospike/c16_py_core\\n●\\nContributed to the backend for a web-based cluster monitoring system for NoSQL DB.\\nCompany: Synerzip (now Excellarate), Pune\\nRole: Senior Software engineer\\nDuration: July-2013 to June-2015 (2 Years)\\nRole: Senior Software Engineer (2 Years)\\nProduct-1: QuickOffice (Google product)\\nSkills: Django, Python, DevOps, Jenkins, CI/CD, Docker, Ansible.\\nQuickOffice is Google’s product that allows users to edit Word, Excel, and presentation files offline in\\nChrome.\\n●\\nSet up CI pipeline with Bamboo, Jenkins, Ansible, and Docker, reducing build shipping time\\nby 40%.\\n●\\nDeveloped and maintained test automation frameworks.\\n●\\nEngineered a web-based tool to automate build testing.\\nCompany: Amdocs, Pune', metadata={'source': '../CV-Pavan-13yrs-Python-AI.pdf', 'file_path': '../CV-Pavan-13yrs-Python-AI.pdf', 'page': 2, 'total_pages': 4, 'format': 'PDF 1.4', 'title': 'CV-Pavan-13yrs-Python-AI', 'author': '', 'subject': '', 'keywords': '', 'creator': '', 'producer': 'Skia/PDF m128 Google Docs Renderer', 'creationDate': '', 'modDate': '', 'trapped': ''})]"
      ]
     },
     "execution_count": 14,
     "metadata": {},
     "output_type": "execute_result"
    }
   ],
   "source": [
    "## Query Vector Database\n",
    "query = \"List out Core skills of Pavan\"\n",
    "results = db.similarity_search(query)\n",
    "results"
   ]
  },
  {
   "cell_type": "code",
   "execution_count": 15,
   "metadata": {},
   "outputs": [],
   "source": [
    "from langchain_community.llms import Ollama\n",
    "\n",
    "llm = Ollama(model=\"llama3\", base_url=\"http://localhost:11434\")"
   ]
  },
  {
   "cell_type": "code",
   "execution_count": 16,
   "metadata": {},
   "outputs": [],
   "source": [
    "# Design ChatPrompt Template\n",
    "from langchain_core.prompts import ChatPromptTemplate\n",
    "\n",
    "prompt = ChatPromptTemplate.from_template(\"\"\"\n",
    "Answer the following question based only on the provided context.\n",
    "Think step by step before providing a detailed answer\n",
    "<context>\n",
    "{context}\n",
    "</context>  \n",
    "Question: {input}\n",
    "\"\"\")"
   ]
  },
  {
   "cell_type": "code",
   "execution_count": 17,
   "metadata": {},
   "outputs": [],
   "source": [
    "## Chain Introduction\n",
    "## Create Stuff Document Chain\n",
    "from langchain.chains.combine_documents import create_stuff_documents_chain\n",
    "\n",
    "document_chain = create_stuff_documents_chain(llm, prompt)\n"
   ]
  },
  {
   "cell_type": "code",
   "execution_count": 18,
   "metadata": {},
   "outputs": [
    {
     "data": {
      "text/plain": [
       "VectorStoreRetriever(tags=['FAISS', 'OllamaEmbeddings'], vectorstore=<langchain_community.vectorstores.faiss.FAISS object at 0x15031b350>)"
      ]
     },
     "execution_count": 18,
     "metadata": {},
     "output_type": "execute_result"
    }
   ],
   "source": [
    "retriever = db.as_retriever()\n",
    "retriever"
   ]
  },
  {
   "cell_type": "code",
   "execution_count": 19,
   "metadata": {},
   "outputs": [],
   "source": [
    "# Retrieval Chain\n",
    "from langchain.chains import create_retrieval_chain\n",
    "retrieval_chain = create_retrieval_chain(retriever, document_chain)"
   ]
  },
  {
   "cell_type": "code",
   "execution_count": 21,
   "metadata": {},
   "outputs": [
    {
     "data": {
      "text/plain": [
       "{'input': 'Retrieve certifications and award',\n",
       " 'context': [Document(page_content='onboarding of 7 Fortune-1000 companies as licensed customers of this platform.\\nRole: Lead Data Scientist\\nProduct-2: Illuminate\\nSkills: Python, Data Mining, Data Preprocessing, ETL, Data Lake, Data Pipeline, Dashboard Embedding, Data\\nwarehousing.\\nAWS Services: Lambda, Dynamo-Db, S3, Aurora-Db, SQS, Redshift, QuickSight.\\nIlluminate provides a single account financial view to highlight actual to plan performance based on estimated\\naccount spend with five year forward and backward views.\\n●\\nAnalyzed business requirement related to company’s ﬁnancial data, identify suitable APIs on\\nThomson- Reuters, process, save and publish data on web application.\\n●\\nLEI Integration for company information and ownership hierarchy.\\n●\\nProductionized web-embeddable dashboards using AWS QuickSight and Redshift to display account\\ninsights.\\nRole: Manager Engineering\\nProduct-3: Enterprise B2B SaaS Platform\\nSkills: Python, FastAPI, AWS, Agile, Serverless, Delivery Management, Project Management, Elastic Search,', metadata={'source': '../CV-Pavan-13yrs-Python-AI.pdf', 'file_path': '../CV-Pavan-13yrs-Python-AI.pdf', 'page': 1, 'total_pages': 4, 'format': 'PDF 1.4', 'title': 'CV-Pavan-13yrs-Python-AI', 'author': '', 'subject': '', 'keywords': '', 'creator': '', 'producer': 'Skia/PDF m128 Google Docs Renderer', 'creationDate': '', 'modDate': '', 'trapped': ''}),\n",
       "  Document(page_content='(Datalake), Redshift, SNS, SQS (queue), Cloud Watch (Logging and monitoring), ECS, EKS (Kubernetes), Cognito,\\nAuroraDB RDS.\\nManagement: Architecture, Team Leader, Sprint Planning, Product Management, Delivery Management, Project\\nManagement.\\nProfessional Experience\\nCompany: GSLab, Pune\\nDuration: July-2015 to Present (9 years)\\nRole: Solutions Architect AI\\nProduct-1: Opportunities\\nSkills: Information Retrieval, RAG, Langchain, Chat GPT (LLM), FastAPI.\\nAWS Services: Sagemaker, S3, SQS, SNS, ECS, Lambda, Dynamo-Db, Opensearch, Quicksight.\\nApplication for ﬁnding business leads (needle in haystack) from company ﬁlings, reports, announcements,\\nnews feeds and user uploaded pdf ﬁles', metadata={'source': '../CV-Pavan-13yrs-Python-AI.pdf', 'file_path': '../CV-Pavan-13yrs-Python-AI.pdf', 'page': 0, 'total_pages': 4, 'format': 'PDF 1.4', 'title': 'CV-Pavan-13yrs-Python-AI', 'author': '', 'subject': '', 'keywords': '', 'creator': '', 'producer': 'Skia/PDF m128 Google Docs Renderer', 'creationDate': '', 'modDate': '', 'trapped': ''}),\n",
       "  Document(page_content='Pavan Gupta\\nSolutions Architect AI\\nAddress: Pune, Maharashtra, 411045\\nEmail: pvn.gupta.2009@gmail.com\\nPhone: +91 9730021660\\nLinkedIn: pavan-gupta-3a051b30\\nGithub PavanGupta01\\nStake Overflow pavan-gupta\\nFull-stack Lead AI Developer/Architect with 13+ years of experience specializing in converting ideas into products\\nand building solutions from the ground up for US-based startups. Expertise includes Data Science, Application\\nDevelopment, AI/ML Ops and Project Management.\\nProven track record over the last 7+ years in leading design and development of MVPs and production-ready\\nsystems, delivering AI-enabled, data-driven products in fast-paced environments.\\nLeading the development of an Enterprise-RAG platform utilizing llamaindex, Information-Retrieval workflow which\\nleverages OpenAI-ChatGPt & Langchain on AWS cloud for market research product.\\nKey Skills\\nCore Skills: Python, AI, AWS, Architecture, Web Development, Agile.\\nDomains: Financial Systems - BFSI, Ed tech, Telecom', metadata={'source': '../CV-Pavan-13yrs-Python-AI.pdf', 'file_path': '../CV-Pavan-13yrs-Python-AI.pdf', 'page': 0, 'total_pages': 4, 'format': 'PDF 1.4', 'title': 'CV-Pavan-13yrs-Python-AI', 'author': '', 'subject': '', 'keywords': '', 'creator': '', 'producer': 'Skia/PDF m128 Google Docs Renderer', 'creationDate': '', 'modDate': '', 'trapped': ''}),\n",
       "  Document(page_content='Role: Subject Matter Expert (SME)\\nDuration: July-2011 to June-2013 (2 years)\\nProduct: E-Commerce Platform (used by ~50 mn users)\\nSkills: Python, Java, Selenium, Test automation, Test execution, Manual testing.\\n●\\nDesigned test automation framework and end-to-end scenarios, reducing manual testing efforts by 70%.\\n●\\nDeveloped QC and JIRA synchronization tools, saving ~30 hours of monthly manpower.\\n●\\nClustered and identified requirements from SRS documents.\\n●\\nPrepared and executed test plans based on software requirements.\\nEducation\\nRIT / Masters in Computer Applications ( MCA )\\nJul 2008 - Jun 2011, Indore\\nMCRPV / Bachelors of Computer Applications ( BCA )\\nJul 2005 - Jun 2008, Rajgarh\\nCertiﬁcations and Award\\n●\\nGitHub Copilot: The AI Pair Programmer for Coding - Coursera Specialization\\nDelve deeply into the artificial intelligence technologies that drive GitHub Copilot.\\n●\\nGenerative AI for Everyone - Coursera Specialization\\nAI Fundamentals and Applications in Daily Life\\n●', metadata={'source': '../CV-Pavan-13yrs-Python-AI.pdf', 'file_path': '../CV-Pavan-13yrs-Python-AI.pdf', 'page': 3, 'total_pages': 4, 'format': 'PDF 1.4', 'title': 'CV-Pavan-13yrs-Python-AI', 'author': '', 'subject': '', 'keywords': '', 'creator': '', 'producer': 'Skia/PDF m128 Google Docs Renderer', 'creationDate': '', 'modDate': '', 'trapped': ''})],\n",
       " 'answer': 'Based on the provided context, I can retrieve the certifications and award mentioned:\\n\\n* \"GitHub Copilot: The AI Pair Programmer for Coding\" - Coursera Specialization (no specific certification, but a specialization)\\n* \"Generative AI for Everyone\" - Coursera Specialization (no specific certification, but a specialization)\\n\\nThere is no specific award mentioned in the provided context.'}"
      ]
     },
     "execution_count": 21,
     "metadata": {},
     "output_type": "execute_result"
    }
   ],
   "source": [
    "retrieval_chain.invoke({\"input\": \"Retrieve certifications and award\"})"
   ]
  }
 ],
 "metadata": {
  "kernelspec": {
   "display_name": "venv",
   "language": "python",
   "name": "python3"
  },
  "language_info": {
   "codemirror_mode": {
    "name": "ipython",
    "version": 3
   },
   "file_extension": ".py",
   "mimetype": "text/x-python",
   "name": "python",
   "nbconvert_exporter": "python",
   "pygments_lexer": "ipython3",
   "version": "3.11.6"
  }
 },
 "nbformat": 4,
 "nbformat_minor": 2
}
